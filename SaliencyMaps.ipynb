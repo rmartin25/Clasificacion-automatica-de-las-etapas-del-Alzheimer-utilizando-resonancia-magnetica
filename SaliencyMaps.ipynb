{
  "nbformat": 4,
  "nbformat_minor": 0,
  "metadata": {
    "colab": {
      "provenance": []
    },
    "kernelspec": {
      "name": "python3",
      "display_name": "Python 3"
    },
    "language_info": {
      "name": "python"
    },
    "accelerator": "GPU",
    "gpuClass": "standard",
    "widgets": {
      "application/vnd.jupyter.widget-state+json": {
        "ee0113f27be44d759c69ea374bc904a5": {
          "model_module": "@jupyter-widgets/controls",
          "model_name": "HBoxModel",
          "model_module_version": "1.5.0",
          "state": {
            "_dom_classes": [],
            "_model_module": "@jupyter-widgets/controls",
            "_model_module_version": "1.5.0",
            "_model_name": "HBoxModel",
            "_view_count": null,
            "_view_module": "@jupyter-widgets/controls",
            "_view_module_version": "1.5.0",
            "_view_name": "HBoxView",
            "box_style": "",
            "children": [
              "IPY_MODEL_3eadca71856146359402c7560381f014",
              "IPY_MODEL_13829f2fc01f42448abccffdcbfb45a9",
              "IPY_MODEL_77a54a78565c413e959281102050ddb0"
            ],
            "layout": "IPY_MODEL_244caa060f0e4e4b91dc9167a94bded8"
          }
        },
        "3eadca71856146359402c7560381f014": {
          "model_module": "@jupyter-widgets/controls",
          "model_name": "HTMLModel",
          "model_module_version": "1.5.0",
          "state": {
            "_dom_classes": [],
            "_model_module": "@jupyter-widgets/controls",
            "_model_module_version": "1.5.0",
            "_model_name": "HTMLModel",
            "_view_count": null,
            "_view_module": "@jupyter-widgets/controls",
            "_view_module_version": "1.5.0",
            "_view_name": "HTMLView",
            "description": "",
            "description_tooltip": null,
            "layout": "IPY_MODEL_ca000a8b987446618117d4d859a6460d",
            "placeholder": "​",
            "style": "IPY_MODEL_6fbc004830c04a438122e1f7264047b3",
            "value": "100%"
          }
        },
        "13829f2fc01f42448abccffdcbfb45a9": {
          "model_module": "@jupyter-widgets/controls",
          "model_name": "FloatProgressModel",
          "model_module_version": "1.5.0",
          "state": {
            "_dom_classes": [],
            "_model_module": "@jupyter-widgets/controls",
            "_model_module_version": "1.5.0",
            "_model_name": "FloatProgressModel",
            "_view_count": null,
            "_view_module": "@jupyter-widgets/controls",
            "_view_module_version": "1.5.0",
            "_view_name": "ProgressView",
            "bar_style": "success",
            "description": "",
            "description_tooltip": null,
            "layout": "IPY_MODEL_b7567182265d427caa03306b3642ac2c",
            "max": 574673361,
            "min": 0,
            "orientation": "horizontal",
            "style": "IPY_MODEL_f10cb9c9508345e1880e36bcf6e236ff",
            "value": 574673361
          }
        },
        "77a54a78565c413e959281102050ddb0": {
          "model_module": "@jupyter-widgets/controls",
          "model_name": "HTMLModel",
          "model_module_version": "1.5.0",
          "state": {
            "_dom_classes": [],
            "_model_module": "@jupyter-widgets/controls",
            "_model_module_version": "1.5.0",
            "_model_name": "HTMLModel",
            "_view_count": null,
            "_view_module": "@jupyter-widgets/controls",
            "_view_module_version": "1.5.0",
            "_view_name": "HTMLView",
            "description": "",
            "description_tooltip": null,
            "layout": "IPY_MODEL_4c42ee8e23064cb5bb555bab5ecf0686",
            "placeholder": "​",
            "style": "IPY_MODEL_e38cad5096064acbb3518ed298c64e6e",
            "value": " 548M/548M [00:05&lt;00:00, 101MB/s]"
          }
        },
        "244caa060f0e4e4b91dc9167a94bded8": {
          "model_module": "@jupyter-widgets/base",
          "model_name": "LayoutModel",
          "model_module_version": "1.2.0",
          "state": {
            "_model_module": "@jupyter-widgets/base",
            "_model_module_version": "1.2.0",
            "_model_name": "LayoutModel",
            "_view_count": null,
            "_view_module": "@jupyter-widgets/base",
            "_view_module_version": "1.2.0",
            "_view_name": "LayoutView",
            "align_content": null,
            "align_items": null,
            "align_self": null,
            "border": null,
            "bottom": null,
            "display": null,
            "flex": null,
            "flex_flow": null,
            "grid_area": null,
            "grid_auto_columns": null,
            "grid_auto_flow": null,
            "grid_auto_rows": null,
            "grid_column": null,
            "grid_gap": null,
            "grid_row": null,
            "grid_template_areas": null,
            "grid_template_columns": null,
            "grid_template_rows": null,
            "height": null,
            "justify_content": null,
            "justify_items": null,
            "left": null,
            "margin": null,
            "max_height": null,
            "max_width": null,
            "min_height": null,
            "min_width": null,
            "object_fit": null,
            "object_position": null,
            "order": null,
            "overflow": null,
            "overflow_x": null,
            "overflow_y": null,
            "padding": null,
            "right": null,
            "top": null,
            "visibility": null,
            "width": null
          }
        },
        "ca000a8b987446618117d4d859a6460d": {
          "model_module": "@jupyter-widgets/base",
          "model_name": "LayoutModel",
          "model_module_version": "1.2.0",
          "state": {
            "_model_module": "@jupyter-widgets/base",
            "_model_module_version": "1.2.0",
            "_model_name": "LayoutModel",
            "_view_count": null,
            "_view_module": "@jupyter-widgets/base",
            "_view_module_version": "1.2.0",
            "_view_name": "LayoutView",
            "align_content": null,
            "align_items": null,
            "align_self": null,
            "border": null,
            "bottom": null,
            "display": null,
            "flex": null,
            "flex_flow": null,
            "grid_area": null,
            "grid_auto_columns": null,
            "grid_auto_flow": null,
            "grid_auto_rows": null,
            "grid_column": null,
            "grid_gap": null,
            "grid_row": null,
            "grid_template_areas": null,
            "grid_template_columns": null,
            "grid_template_rows": null,
            "height": null,
            "justify_content": null,
            "justify_items": null,
            "left": null,
            "margin": null,
            "max_height": null,
            "max_width": null,
            "min_height": null,
            "min_width": null,
            "object_fit": null,
            "object_position": null,
            "order": null,
            "overflow": null,
            "overflow_x": null,
            "overflow_y": null,
            "padding": null,
            "right": null,
            "top": null,
            "visibility": null,
            "width": null
          }
        },
        "6fbc004830c04a438122e1f7264047b3": {
          "model_module": "@jupyter-widgets/controls",
          "model_name": "DescriptionStyleModel",
          "model_module_version": "1.5.0",
          "state": {
            "_model_module": "@jupyter-widgets/controls",
            "_model_module_version": "1.5.0",
            "_model_name": "DescriptionStyleModel",
            "_view_count": null,
            "_view_module": "@jupyter-widgets/base",
            "_view_module_version": "1.2.0",
            "_view_name": "StyleView",
            "description_width": ""
          }
        },
        "b7567182265d427caa03306b3642ac2c": {
          "model_module": "@jupyter-widgets/base",
          "model_name": "LayoutModel",
          "model_module_version": "1.2.0",
          "state": {
            "_model_module": "@jupyter-widgets/base",
            "_model_module_version": "1.2.0",
            "_model_name": "LayoutModel",
            "_view_count": null,
            "_view_module": "@jupyter-widgets/base",
            "_view_module_version": "1.2.0",
            "_view_name": "LayoutView",
            "align_content": null,
            "align_items": null,
            "align_self": null,
            "border": null,
            "bottom": null,
            "display": null,
            "flex": null,
            "flex_flow": null,
            "grid_area": null,
            "grid_auto_columns": null,
            "grid_auto_flow": null,
            "grid_auto_rows": null,
            "grid_column": null,
            "grid_gap": null,
            "grid_row": null,
            "grid_template_areas": null,
            "grid_template_columns": null,
            "grid_template_rows": null,
            "height": null,
            "justify_content": null,
            "justify_items": null,
            "left": null,
            "margin": null,
            "max_height": null,
            "max_width": null,
            "min_height": null,
            "min_width": null,
            "object_fit": null,
            "object_position": null,
            "order": null,
            "overflow": null,
            "overflow_x": null,
            "overflow_y": null,
            "padding": null,
            "right": null,
            "top": null,
            "visibility": null,
            "width": null
          }
        },
        "f10cb9c9508345e1880e36bcf6e236ff": {
          "model_module": "@jupyter-widgets/controls",
          "model_name": "ProgressStyleModel",
          "model_module_version": "1.5.0",
          "state": {
            "_model_module": "@jupyter-widgets/controls",
            "_model_module_version": "1.5.0",
            "_model_name": "ProgressStyleModel",
            "_view_count": null,
            "_view_module": "@jupyter-widgets/base",
            "_view_module_version": "1.2.0",
            "_view_name": "StyleView",
            "bar_color": null,
            "description_width": ""
          }
        },
        "4c42ee8e23064cb5bb555bab5ecf0686": {
          "model_module": "@jupyter-widgets/base",
          "model_name": "LayoutModel",
          "model_module_version": "1.2.0",
          "state": {
            "_model_module": "@jupyter-widgets/base",
            "_model_module_version": "1.2.0",
            "_model_name": "LayoutModel",
            "_view_count": null,
            "_view_module": "@jupyter-widgets/base",
            "_view_module_version": "1.2.0",
            "_view_name": "LayoutView",
            "align_content": null,
            "align_items": null,
            "align_self": null,
            "border": null,
            "bottom": null,
            "display": null,
            "flex": null,
            "flex_flow": null,
            "grid_area": null,
            "grid_auto_columns": null,
            "grid_auto_flow": null,
            "grid_auto_rows": null,
            "grid_column": null,
            "grid_gap": null,
            "grid_row": null,
            "grid_template_areas": null,
            "grid_template_columns": null,
            "grid_template_rows": null,
            "height": null,
            "justify_content": null,
            "justify_items": null,
            "left": null,
            "margin": null,
            "max_height": null,
            "max_width": null,
            "min_height": null,
            "min_width": null,
            "object_fit": null,
            "object_position": null,
            "order": null,
            "overflow": null,
            "overflow_x": null,
            "overflow_y": null,
            "padding": null,
            "right": null,
            "top": null,
            "visibility": null,
            "width": null
          }
        },
        "e38cad5096064acbb3518ed298c64e6e": {
          "model_module": "@jupyter-widgets/controls",
          "model_name": "DescriptionStyleModel",
          "model_module_version": "1.5.0",
          "state": {
            "_model_module": "@jupyter-widgets/controls",
            "_model_module_version": "1.5.0",
            "_model_name": "DescriptionStyleModel",
            "_view_count": null,
            "_view_module": "@jupyter-widgets/base",
            "_view_module_version": "1.2.0",
            "_view_name": "StyleView",
            "description_width": ""
          }
        }
      }
    }
  },
  "cells": [
    {
      "cell_type": "markdown",
      "source": [
        "# Algoritmo de Saliency map para Torch aplicada a imágenes de cerebros con diferentes diagnósticos de Alzheimer."
      ],
      "metadata": {
        "id": "bpDNBRsT0_2D"
      }
    },
    {
      "cell_type": "code",
      "source": [
        "import sys\n",
        "def in_colab():\n",
        "    \"Check if the code is running in Google Colaboratory\"\n",
        "    return 'google.colab' in sys.modules"
      ],
      "metadata": {
        "id": "MDKiSur61DTM"
      },
      "execution_count": 12,
      "outputs": []
    },
    {
      "cell_type": "code",
      "source": [
        "if in_colab():\n",
        "  from google.colab import drive\n",
        "  drive.mount('/content/drive', force_remount=True)"
      ],
      "metadata": {
        "colab": {
          "base_uri": "https://localhost:8080/"
        },
        "id": "CadFERVXb_38",
        "outputId": "2a266427-54bf-4e63-fba9-9b8f2ab4fa89"
      },
      "execution_count": 13,
      "outputs": [
        {
          "output_type": "stream",
          "name": "stdout",
          "text": [
            "Mounted at /content/drive\n"
          ]
        }
      ]
    },
    {
      "cell_type": "markdown",
      "source": [],
      "metadata": {
        "id": "syVMVsFz3nmT"
      }
    },
    {
      "cell_type": "markdown",
      "source": [
        "**Empezamos con las importaciones:**"
      ],
      "metadata": {
        "id": "XnzerZB916U5"
      }
    },
    {
      "cell_type": "code",
      "source": [
        "\n",
        "#IMPORTS\n",
        "\n",
        "import torch\n",
        "import torchvision\n",
        "import torchvision.transforms as T\n",
        "import numpy as np\n",
        "import matplotlib.pyplot as plt\n",
        "from torchsummary import summary\n",
        "import requests\n",
        "from PIL import Image\n",
        "\n",
        "#Using VGG-19 pretrained model for image classification\n",
        "\n",
        "model = torchvision.models.vgg19(pretrained=True)\n",
        "for param in model.parameters():\n",
        "    param.requires_grad = False"
      ],
      "metadata": {
        "id": "xtft1P5QsJnJ",
        "colab": {
          "base_uri": "https://localhost:8080/",
          "height": 161,
          "referenced_widgets": [
            "ee0113f27be44d759c69ea374bc904a5",
            "3eadca71856146359402c7560381f014",
            "13829f2fc01f42448abccffdcbfb45a9",
            "77a54a78565c413e959281102050ddb0",
            "244caa060f0e4e4b91dc9167a94bded8",
            "ca000a8b987446618117d4d859a6460d",
            "6fbc004830c04a438122e1f7264047b3",
            "b7567182265d427caa03306b3642ac2c",
            "f10cb9c9508345e1880e36bcf6e236ff",
            "4c42ee8e23064cb5bb555bab5ecf0686",
            "e38cad5096064acbb3518ed298c64e6e"
          ]
        },
        "outputId": "ae7c6896-30cd-4b34-f2bc-6acfe004d5e6"
      },
      "execution_count": 17,
      "outputs": [
        {
          "output_type": "stream",
          "name": "stderr",
          "text": [
            "/usr/local/lib/python3.8/dist-packages/torchvision/models/_utils.py:208: UserWarning: The parameter 'pretrained' is deprecated since 0.13 and may be removed in the future, please use 'weights' instead.\n",
            "  warnings.warn(\n",
            "/usr/local/lib/python3.8/dist-packages/torchvision/models/_utils.py:223: UserWarning: Arguments other than a weight enum or `None` for 'weights' are deprecated since 0.13 and may be removed in the future. The current behavior is equivalent to passing `weights=VGG19_Weights.IMAGENET1K_V1`. You can also use `weights=VGG19_Weights.DEFAULT` to get the most up-to-date weights.\n",
            "  warnings.warn(msg)\n",
            "Downloading: \"https://download.pytorch.org/models/vgg19-dcbb9e9d.pth\" to /root/.cache/torch/hub/checkpoints/vgg19-dcbb9e9d.pth\n"
          ]
        },
        {
          "output_type": "display_data",
          "data": {
            "text/plain": [
              "  0%|          | 0.00/548M [00:00<?, ?B/s]"
            ],
            "application/vnd.jupyter.widget-view+json": {
              "version_major": 2,
              "version_minor": 0,
              "model_id": "ee0113f27be44d759c69ea374bc904a5"
            }
          },
          "metadata": {}
        }
      ]
    },
    {
      "cell_type": "markdown",
      "source": [
        "# Modelo\n",
        "\n",
        "**Vamos a usar ganchos para obtener los mapas de activación y los gradientes de la capa y el tensor deseados, respectivamente. Para este tutorial vamos a tomar los mapas de activación de la capa 4 de ResNet50 y gradientes con respecto al tensor de salida de la misma**."
      ],
      "metadata": {
        "id": "jdYr479W2IEG"
      }
    },
    {
      "cell_type": "code",
      "source": [
        "# Opening the image\n",
        "img = Image.open('/content/drive/MyDrive/Imagenes Cerebro/Imagenes modelo/NonDemented/13116.jpg') "
      ],
      "metadata": {
        "id": "wSnQp4qZsJqq"
      },
      "execution_count": 27,
      "outputs": []
    },
    {
      "cell_type": "markdown",
      "source": [
        "**Declaramos la instancia de Modelo.**"
      ],
      "metadata": {
        "id": "gIk9blAV2rI0"
      }
    },
    {
      "cell_type": "markdown",
      "source": [
        "**Leemos la imagen.**"
      ],
      "metadata": {
        "id": "992A2nGD23VV"
      }
    },
    {
      "cell_type": "code",
      "source": [
        "# Preprocess the image\n",
        "def preprocess(image, size=224):\n",
        "    transform = T.Compose([\n",
        "        T.Resize((size,size)),\n",
        "        T.ToTensor(),\n",
        "        T.Normalize(mean=[0.485, 0.456, 0.406], std=[0.229, 0.224, 0.225]),\n",
        "        T.Lambda(lambda x: x[None]),\n",
        "    ])\n",
        "    return transform(image)\n",
        "\n",
        "def deprocess(image):\n",
        "    transform = T.Compose([\n",
        "        T.Lambda(lambda x: x[0]),\n",
        "        T.Normalize(mean=[0, 0, 0], std=[4.3668, 4.4643, 4.4444]),\n",
        "        T.Normalize(mean=[-0.485, -0.456, -0.406], std=[1, 1, 1]),\n",
        "        T.ToPILImage(),\n",
        "    ])\n",
        "    return transform(image)\n",
        "\n",
        "def show_img(PIL_IMG):\n",
        "    plt.imshow(np.asarray(PIL_IMG))"
      ],
      "metadata": {
        "id": "lqisNJkHsJw0"
      },
      "execution_count": 28,
      "outputs": []
    },
    {
      "cell_type": "markdown",
      "source": [
        "**Compute Gradient Class Activation Maps.**"
      ],
      "metadata": {
        "id": "qjkdaZhW29x3"
      }
    },
    {
      "cell_type": "code",
      "source": [
        "# preprocess the image\n",
        "X = preprocess(img)\n",
        "\n",
        "# we would run the model in evaluation mode\n",
        "model.eval()\n",
        "\n",
        "# we need to find the gradient with respect to the input image, so we need to call requires_grad_ on it\n",
        "X.requires_grad_()\n",
        "\n",
        "'''\n",
        "forward pass through the model to get the scores, note that VGG-19 model doesn't perform softmax at the end\n",
        "and we also don't need softmax, we need scores, so that's perfect for us.\n",
        "'''\n",
        "\n",
        "scores = model(X)\n",
        "\n",
        "# Get the index corresponding to the maximum score and the maximum score itself.\n",
        "score_max_index = scores.argmax()\n",
        "score_max = scores[0,score_max_index]\n",
        "\n",
        "'''\n",
        "backward function on score_max performs the backward pass in the computation graph and calculates the gradient of \n",
        "score_max with respect to nodes in the computation graph\n",
        "'''\n",
        "score_max.backward()\n",
        "\n",
        "'''\n",
        "Saliency would be the gradient with respect to the input image now. But note that the input image has 3 channels,\n",
        "R, G and B. To derive a single class saliency value for each pixel (i, j),  we take the maximum magnitude\n",
        "across all colour channels.\n",
        "'''\n",
        "saliency, _ = torch.max(X.grad.data.abs(),dim=1)\n",
        "\n",
        "# code to plot the saliency map as a heatmap\n",
        "plt.imshow(saliency[0], cmap=plt.cm.hot)\n",
        "plt.axis('off')\n",
        "plt.show()"
      ],
      "metadata": {
        "id": "mrrimgf6sJzn",
        "colab": {
          "base_uri": "https://localhost:8080/",
          "height": 466
        },
        "outputId": "258c027d-fa66-4282-b9c2-1848f3a0c9ef"
      },
      "execution_count": 29,
      "outputs": [
        {
          "output_type": "display_data",
          "data": {
            "text/plain": [
              "<Figure size 720x576 with 1 Axes>"
            ],
            "image/png": "[encoded data removed]"
          },
          "metadata": {
            "needs_background": "light"
          }
        }
      ]
    }
  ]
}